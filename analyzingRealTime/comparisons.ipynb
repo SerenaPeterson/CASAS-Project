{
 "cells": [
  {
   "cell_type": "code",
   "execution_count": null,
   "outputs": [],
   "source": [
    "import pandas as pd\n",
    "import numpy as np\n",
    "import matplotlib.pyplot as plt\n",
    "import seaborn as sns\n",
    "import statsmodels.api as sm\n",
    "from sklearn.cross_decomposition import CCA"
   ],
   "metadata": {
    "collapsed": false
   },
   "id": "8c2ed4d2204d413c"
  },
  {
   "cell_type": "markdown",
   "source": [
    "# Neural Network Evaluation Data"
   ],
   "metadata": {
    "collapsed": false
   },
   "id": "e0079d066e89930f"
  },
  {
   "cell_type": "code",
   "execution_count": null,
   "outputs": [],
   "source": [
    "eval_data1 = pd.read_csv(\"NN Eval Data/EvalNN_Data1\", index_col=[0,1])\n",
    "eval_data2 = pd.read_csv(\"NN Eval Data/EvalNN_Data2\", index_col=[0,1])\n",
    "eval_data3 = pd.read_csv(\"NN Eval Data/EvalNN_Data3\", index_col=[0,1])\n",
    "eval_data4 = pd.read_csv(\"NN Eval Data/EvalNN_Data4\", index_col=[0,1])\n",
    "eval_data5 = pd.read_csv(\"NN Eval Data/EvalNN_Data5\", index_col=[0,1])\n",
    "\n",
    "all_eval_data = pd.concat((eval_data1, eval_data2, eval_data3, eval_data4, eval_data5))\n",
    "all_eval_data = all_eval_data.groupby([all_eval_data.index.get_level_values(0), all_eval_data.index.get_level_values(1)]).mean()"
   ],
   "metadata": {
    "collapsed": false
   },
   "id": "548ea556faf402e6"
  },
  {
   "cell_type": "code",
   "execution_count": null,
   "outputs": [],
   "source": [
    "all_eval_data"
   ],
   "metadata": {
    "collapsed": false
   },
   "id": "e31b5a1bd86d754e"
  },
  {
   "cell_type": "code",
   "execution_count": null,
   "outputs": [],
   "source": [
    "for column in all_eval_data.columns:\n",
    "    print(all_eval_data[column].idxmax())"
   ],
   "metadata": {
    "collapsed": false
   },
   "id": "a5ec901dd84d1176"
  },
  {
   "cell_type": "code",
   "execution_count": null,
   "outputs": [],
   "source": [
    "normalized_eval=(all_eval_data-all_eval_data.mean())/all_eval_data.std()\n",
    "normalized_eval"
   ],
   "metadata": {
    "collapsed": false
   },
   "id": "88d3922590322c90"
  },
  {
   "cell_type": "code",
   "execution_count": null,
   "outputs": [],
   "source": [
    "sns.pairplot(normalized_eval)"
   ],
   "metadata": {
    "collapsed": false
   },
   "id": "37f2646557e8a131"
  },
  {
   "cell_type": "code",
   "execution_count": null,
   "outputs": [],
   "source": [
    "normalized_eval.boxplot()"
   ],
   "metadata": {
    "collapsed": false
   },
   "id": "4e215965e7823fff"
  },
  {
   "cell_type": "markdown",
   "source": [
    "# Similarity Measure Data"
   ],
   "metadata": {
    "collapsed": false
   },
   "id": "ccef0fb82327d067"
  },
  {
   "cell_type": "code",
   "execution_count": null,
   "outputs": [],
   "source": [
    "sim_data1 = pd.read_csv(\"Similarity Data/SimilarityData\", index_col=[0,1])\n",
    "sim_data1 = sim_data1.sort_index()\n",
    "sim_data1.head()"
   ],
   "metadata": {
    "collapsed": false
   },
   "id": "833154d68a88d3cc"
  },
  {
   "cell_type": "markdown",
   "source": [],
   "metadata": {
    "collapsed": false
   },
   "id": "4be32c0066dab4f0"
  },
  {
   "cell_type": "code",
   "execution_count": null,
   "outputs": [],
   "source": [
    "sim_data2 = pd.read_csv(\"Similarity Data/SimilarityData_AllFeats\", index_col=[0,1])\n",
    "sim_data2 = sim_data2.sort_index()\n",
    "sim_data2.head()"
   ],
   "metadata": {
    "collapsed": false
   },
   "id": "600e601ea7dd2368"
  },
  {
   "cell_type": "code",
   "execution_count": null,
   "outputs": [],
   "source": [
    "norm_sim1 = (sim_data1-sim_data1.mean())/sim_data1.std()\n",
    "norm_sim2 = (sim_data2-sim_data2.mean())/sim_data2.std()\n",
    "norm_sim1.head()"
   ],
   "metadata": {
    "collapsed": false
   },
   "id": "9899394a1f44e2e2"
  },
  {
   "cell_type": "code",
   "execution_count": null,
   "outputs": [],
   "source": [
    "norm_sim2.head()"
   ],
   "metadata": {
    "collapsed": false
   },
   "id": "813de91ce9860654"
  },
  {
   "cell_type": "code",
   "execution_count": null,
   "outputs": [],
   "source": [
    "norm_sim1.boxplot(grid = False, rot = 60)"
   ],
   "metadata": {
    "collapsed": false
   },
   "id": "3d73c976d91aaec7"
  },
  {
   "cell_type": "code",
   "execution_count": null,
   "outputs": [],
   "source": [
    "norm_sim2.boxplot(grid = False, rot = 60)"
   ],
   "metadata": {
    "collapsed": false
   },
   "id": "c7d71f78c7d86f25"
  },
  {
   "cell_type": "code",
   "execution_count": null,
   "outputs": [],
   "source": [
    "sns.pairplot(norm_sim1)"
   ],
   "metadata": {
    "collapsed": false
   },
   "id": "6d31b75913854df6"
  },
  {
   "cell_type": "code",
   "execution_count": null,
   "outputs": [],
   "source": [
    "sns.pairplot(norm_sim2)"
   ],
   "metadata": {
    "collapsed": false
   },
   "id": "51a7bc85d8a219ab"
  },
  {
   "cell_type": "code",
   "execution_count": null,
   "outputs": [],
   "source": [
    "sim_data1_new = sim_data1.copy()\n",
    "sim_data2_new = sim_data2.copy()\n",
    "sim_data1_new.columns = [\"Euclidean (1)\", \"DTW - Between (1)\", \"DTW - Within (1)\", \"KLD (1)\", \"MIS (1)\", \"EMD (1)\", \"Granger (1)\", \"Cosine (1)\"]\n",
    "sim_data2_new.columns = [\"Euclidean (2)\", \"DTW - Between (2)\", \"DTW - Within (2)\", \"KLD (2)\", \"MIS (2)\", \"EMD (2)\", \"Cosine (2)\"]\n",
    "corr_coeff = sim_data1_new.join(sim_data2_new, how=\"outer\").corr()\n",
    "corr_coeff"
   ],
   "metadata": {
    "collapsed": false
   },
   "id": "2802e68553bd5e3e"
  },
  {
   "cell_type": "code",
   "execution_count": null,
   "outputs": [],
   "source": [
    "plt.figure(figsize = (10, 10))\n",
    "sns.heatmap(corr_coeff.iloc[np.r_[0:6, 7], 8:], cmap='coolwarm', annot=True, linewidths=1, vmin=-1)"
   ],
   "metadata": {
    "collapsed": false
   },
   "id": "3892ce35ed08f863"
  },
  {
   "cell_type": "markdown",
   "source": [
    "# Assess Relationships"
   ],
   "metadata": {
    "collapsed": false
   },
   "id": "8580b597f584e264"
  },
  {
   "cell_type": "code",
   "execution_count": null,
   "outputs": [],
   "source": [
    "all_data1 = sim_data1.join(all_eval_data, how=\"outer\")\n",
    "all_data2 = sim_data2.join(all_eval_data, how=\"outer\")"
   ],
   "metadata": {
    "collapsed": false
   },
   "id": "15504f9b746867cc"
  },
  {
   "cell_type": "code",
   "execution_count": null,
   "outputs": [],
   "source": [
    "print(all_eval_data.shape)\n",
    "print(sim_data2.shape)\n",
    "print(all_data2.shape)"
   ],
   "metadata": {
    "collapsed": false
   },
   "id": "86be474ce74d9646"
  },
  {
   "cell_type": "code",
   "execution_count": null,
   "outputs": [],
   "source": [
    "all_data1.to_csv(\"AllData1\")\n",
    "all_data2.to_csv(\"AllData2\")"
   ],
   "metadata": {
    "collapsed": false
   },
   "id": "c74331d32ebed398"
  },
  {
   "cell_type": "code",
   "execution_count": null,
   "outputs": [],
   "source": [
    "all_data1.head()"
   ],
   "metadata": {
    "collapsed": false
   },
   "id": "c0ba57b71946a271"
  },
  {
   "cell_type": "code",
   "execution_count": null,
   "outputs": [],
   "source": [
    "corr_coeff1 = all_data1.corr()\n",
    "plt.figure(figsize = (10, 10))\n",
    "sns.heatmap(corr_coeff1, cmap='coolwarm', annot=True, linewidths=1, vmin=-1)"
   ],
   "metadata": {
    "collapsed": false
   },
   "id": "47f5152dd721f5ff"
  },
  {
   "cell_type": "code",
   "execution_count": null,
   "outputs": [],
   "source": [
    "corr_coeff2 = all_data2.corr()\n",
    "plt.figure(figsize = (10, 10))\n",
    "sns.heatmap(corr_coeff2, cmap='coolwarm', annot=True, linewidths=1, vmin=-1)"
   ],
   "metadata": {
    "collapsed": false
   },
   "id": "c7ce7da217ddad7d"
  },
  {
   "cell_type": "code",
   "execution_count": null,
   "outputs": [],
   "source": [
    "sns.pairplot(all_data1)"
   ],
   "metadata": {
    "collapsed": false
   },
   "id": "80a6923621020496"
  },
  {
   "cell_type": "code",
   "execution_count": null,
   "outputs": [],
   "source": [
    "sns.pairplot(all_data2)"
   ],
   "metadata": {
    "collapsed": false
   },
   "id": "d02d3d40737869ab"
  },
  {
   "cell_type": "markdown",
   "source": [
    "## Approach 1"
   ],
   "metadata": {
    "collapsed": false
   },
   "id": "e03d2d820c6cc8b3"
  },
  {
   "cell_type": "code",
   "execution_count": null,
   "outputs": [],
   "source": [
    "X = norm_sim1\n",
    "X2 = sm.add_constant(X)\n",
    "y = normalized_eval[[\"Avg Loss\"]]\n",
    "est = sm.OLS(y, X2)\n",
    "est2 = est.fit()\n",
    "params1 = est2.params\n",
    "print(est2.summary())"
   ],
   "metadata": {
    "collapsed": false
   },
   "id": "7b90fe4e12e491db"
  },
  {
   "cell_type": "code",
   "execution_count": null,
   "outputs": [],
   "source": [
    "y = normalized_eval[[\"MAE\"]]\n",
    "est = sm.OLS(y, X2)\n",
    "est2 = est.fit()\n",
    "params2 = est2.params\n",
    "print(est2.summary())"
   ],
   "metadata": {
    "collapsed": false
   },
   "id": "18ce587d7ee33ba5"
  },
  {
   "cell_type": "code",
   "execution_count": null,
   "outputs": [],
   "source": [
    "y = normalized_eval[[\"RMSE\"]]\n",
    "est = sm.OLS(y, X2)\n",
    "est2 = est.fit()\n",
    "params3 = est2.params\n",
    "print(est2.summary())"
   ],
   "metadata": {
    "collapsed": false
   },
   "id": "62b24a083743b549"
  },
  {
   "cell_type": "markdown",
   "source": [
    "## Approach 2 "
   ],
   "metadata": {
    "collapsed": false
   },
   "id": "b7d00f37e6c79c43"
  },
  {
   "cell_type": "code",
   "execution_count": null,
   "outputs": [],
   "source": [
    "X = norm_sim2\n",
    "X2 = sm.add_constant(X)\n",
    "y = normalized_eval[[\"Avg Loss\"]]\n",
    "est = sm.OLS(y, X2)\n",
    "est2 = est.fit()\n",
    "print(est2.summary())"
   ],
   "metadata": {
    "collapsed": false
   },
   "id": "f08fee263269717b"
  },
  {
   "cell_type": "code",
   "execution_count": null,
   "outputs": [],
   "source": [
    "y = normalized_eval[[\"MAE\"]]\n",
    "est = sm.OLS(y, X2)\n",
    "est2 = est.fit()\n",
    "print(est2.summary())"
   ],
   "metadata": {
    "collapsed": false
   },
   "id": "f7cc98281d89fba"
  },
  {
   "cell_type": "code",
   "execution_count": null,
   "outputs": [],
   "source": [
    "y = normalized_eval[[\"RMSE\"]]\n",
    "est = sm.OLS(y, X2)\n",
    "est2 = est.fit()\n",
    "print(est2.summary())"
   ],
   "metadata": {
    "collapsed": false
   },
   "id": "d31e893218aaab52"
  },
  {
   "cell_type": "markdown",
   "source": [
    "# Canonical Correlation Analysis"
   ],
   "metadata": {
    "collapsed": false
   },
   "id": "210b504001f88207"
  },
  {
   "cell_type": "markdown",
   "source": [
    "## Approach 1"
   ],
   "metadata": {
    "collapsed": false
   },
   "id": "47254be183749968"
  },
  {
   "cell_type": "code",
   "execution_count": null,
   "outputs": [],
   "source": [
    "n_comp = 3\n",
    "cca = CCA(n_components=n_comp, scale=True)\n",
    "cca.fit(norm_sim1, normalized_eval)\n",
    "U,V = cca.transform(norm_sim1, normalized_eval)"
   ],
   "metadata": {
    "collapsed": false
   },
   "id": "c734c9a758667766"
  },
  {
   "cell_type": "code",
   "execution_count": null,
   "outputs": [],
   "source": [
    "print(f\"First pair: {np.corrcoef(U[:, 0], V[:, 0])[0,1]}\")\n",
    "print(f\"Second pair: {np.corrcoef(U[:, 1], V[:, 1])[0,1]}\")\n",
    "print(f\"Third pair: {np.corrcoef(U[:, 2], V[:, 2])[0,1]}\")"
   ],
   "metadata": {
    "collapsed": false
   },
   "id": "de99a01754e47e42"
  },
  {
   "cell_type": "code",
   "execution_count": null,
   "outputs": [],
   "source": [
    "np.corrcoef(U[:, 0], V[:, 0])[0,1] + np.corrcoef(U[:, 1], V[:, 1])[0,1]"
   ],
   "metadata": {
    "collapsed": false
   },
   "id": "8afc97da97dc57cd"
  },
  {
   "cell_type": "code",
   "execution_count": null,
   "outputs": [],
   "source": [
    "comp_corr = [np.corrcoef(U[:, i], V[:, i])[1][0] for i in range(n_comp)]\n",
    "plt.bar(['CC1', 'CC2', 'CC3'], comp_corr, color='grey', width = 0.8, edgecolor='black')\n",
    "plt.plot(['CC1', 'CC2', 'CC3'], np.cumsum(comp_corr), c='blue')\n",
    "plt.xlabel(\"Canonical Pair\")\n",
    "plt.ylabel(\"Percentage of Variance Explained\")\n",
    "plt.grid(None)\n",
    "plt.title(\"Canonical Correlation Analysis\")"
   ],
   "metadata": {
    "collapsed": false
   },
   "id": "eea1e842c390f649"
  },
  {
   "cell_type": "code",
   "execution_count": null,
   "outputs": [],
   "source": [
    "cca.x_loadings_"
   ],
   "metadata": {
    "collapsed": false
   },
   "id": "a456a1bb14233633"
  },
  {
   "cell_type": "code",
   "execution_count": null,
   "outputs": [],
   "source": [
    "cca.y_loadings_"
   ],
   "metadata": {
    "collapsed": false
   },
   "id": "215e65750ef5b3f6"
  },
  {
   "cell_type": "markdown",
   "source": [
    "## Approach 2"
   ],
   "metadata": {
    "collapsed": false
   },
   "id": "f9b10e90151c4f"
  },
  {
   "cell_type": "code",
   "execution_count": null,
   "outputs": [],
   "source": [
    "n_comp = 3\n",
    "cca = CCA(n_components=n_comp, scale=True)\n",
    "cca.fit(norm_sim2, normalized_eval)\n",
    "U,V = cca.transform(norm_sim2, normalized_eval)"
   ],
   "metadata": {
    "collapsed": false
   },
   "id": "45ca53567952eb36"
  },
  {
   "cell_type": "code",
   "execution_count": null,
   "outputs": [],
   "source": [
    "print(f\"First pair: {np.corrcoef(U[:, 0], V[:, 0])[0,1]}\")\n",
    "print(f\"Second pair: {np.corrcoef(U[:, 1], V[:, 1])[0,1]}\")\n",
    "print(f\"Third pair: {np.corrcoef(U[:, 2], V[:, 2])[0,1]}\")"
   ],
   "metadata": {
    "collapsed": false
   },
   "id": "59efb5caf6878613"
  },
  {
   "cell_type": "code",
   "execution_count": null,
   "outputs": [],
   "source": [
    "np.corrcoef(U[:, 0], V[:, 0])[0,1] + np.corrcoef(U[:, 1], V[:, 1])[0,1] + np.corrcoef(U[:, 2], V[:, 2])[0,1]"
   ],
   "metadata": {
    "collapsed": false
   },
   "id": "9caa53136325f07c"
  },
  {
   "cell_type": "code",
   "execution_count": null,
   "outputs": [],
   "source": [
    "comp_corr = [np.corrcoef(U[:, i], V[:, i])[1][0] for i in range(n_comp)]\n",
    "plt.bar(['CC1', 'CC2', 'CC3'], comp_corr, color='grey', width = 0.8, edgecolor='black')\n",
    "plt.plot(['CC1', 'CC2', 'CC3'], np.cumsum(comp_corr), c='blue')\n",
    "plt.xlabel(\"Canonical Pair\")\n",
    "plt.ylabel(\"Percentage of Variance Explained\")\n",
    "plt.grid(None)\n",
    "plt.title(\"Canonical Correlation Analysis\")"
   ],
   "metadata": {
    "collapsed": false
   },
   "id": "426cfedb8710cfdf"
  },
  {
   "cell_type": "code",
   "execution_count": null,
   "outputs": [],
   "source": [
    "cca.x_loadings_ "
   ],
   "metadata": {
    "collapsed": false
   },
   "id": "65d5037d6c2ea28d"
  },
  {
   "cell_type": "code",
   "execution_count": null,
   "outputs": [],
   "source": [
    "cca.y_loadings_"
   ],
   "metadata": {
    "collapsed": false
   },
   "id": "19fd90bdd26b4609"
  }
 ],
 "metadata": {
  "kernelspec": {
   "display_name": "Python 3",
   "language": "python",
   "name": "python3"
  },
  "language_info": {
   "codemirror_mode": {
    "name": "ipython",
    "version": 2
   },
   "file_extension": ".py",
   "mimetype": "text/x-python",
   "name": "python",
   "nbconvert_exporter": "python",
   "pygments_lexer": "ipython2",
   "version": "2.7.6"
  }
 },
 "nbformat": 4,
 "nbformat_minor": 5
}
