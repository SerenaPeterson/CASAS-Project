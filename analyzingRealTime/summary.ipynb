{
 "cells": [
  {
   "cell_type": "code",
   "execution_count": null,
   "id": "334dc64cc0c338ae",
   "metadata": {
    "collapsed": true
   },
   "outputs": [],
   "source": [
    "import pandas as pd"
   ]
  },
  {
   "cell_type": "code",
   "execution_count": null,
   "outputs": [],
   "source": [
    "# Load data\n",
    "data = pd.read_csv(\"times_for_static_data.csv\")\n",
    "static_data = pd.read_csv(\"static_features.csv\")"
   ],
   "metadata": {
    "collapsed": false
   },
   "id": "ff95110ffd4ca8bd"
  },
  {
   "cell_type": "markdown",
   "source": [
    "# Summary of Time Scale"
   ],
   "metadata": {
    "collapsed": false
   },
   "id": "a72ee01a1d86584c"
  },
  {
   "cell_type": "code",
   "execution_count": null,
   "outputs": [],
   "source": [
    "data[\"DateTime\"] = pd.to_datetime(data[\"DateTime\"])\n",
    "grouped = data[['DateTime', \"Person\"]].groupby(\"Person\")\n",
    "start_dates = grouped.min()\n",
    "end_dates = grouped.max()\n",
    "timeframe = pd.concat([start_dates, end_dates], axis=1)\n",
    "timeframe.columns = [\"Start\", \"End\"]\n",
    "timeframe[\"Duration\"] = timeframe[\"End\"] - timeframe[\"Start\"]\n",
    "timeframe"
   ],
   "metadata": {
    "collapsed": false
   },
   "id": "b5c30e074113f0b8"
  },
  {
   "cell_type": "code",
   "execution_count": null,
   "outputs": [],
   "source": [
    "timeframe[\"Duration\"].describe()"
   ],
   "metadata": {
    "collapsed": false
   },
   "id": "46630d7e70541186"
  },
  {
   "cell_type": "code",
   "execution_count": null,
   "outputs": [],
   "source": [
    "timeframe[\"Start\"].describe()"
   ],
   "metadata": {
    "collapsed": false
   },
   "id": "5434acb7ca52f5b6"
  },
  {
   "cell_type": "code",
   "execution_count": null,
   "outputs": [],
   "source": [
    "data[data[\"Person\"] == 3].iloc[:,4:21]"
   ],
   "metadata": {
    "collapsed": false
   },
   "id": "fca4adae63a854ce"
  },
  {
   "cell_type": "markdown",
   "source": [
    "# Summary of Demographics"
   ],
   "metadata": {
    "collapsed": false
   },
   "id": "e4522e1f98fc71ec"
  },
  {
   "cell_type": "code",
   "execution_count": null,
   "outputs": [],
   "source": [
    "ids = list((data[\"Person\"].unique()))\n",
    "ids = [str(id).zfill(3) for id in ids]"
   ],
   "metadata": {
    "collapsed": false
   },
   "id": "198adee55c264f48"
  },
  {
   "cell_type": "code",
   "execution_count": null,
   "outputs": [],
   "source": [
    "homes = static_data[static_data[\"pt_id\"].str.contains('|'.join(ids))]\n",
    "demographics = homes[[\"pt_id\", \"age\", \"gender\", \"race\"]]\n",
    "demographics[\"age\"] = pd.to_numeric(demographics[\"age\"])\n",
    "demographics"
   ],
   "metadata": {
    "collapsed": false
   },
   "id": "89adbc4704e81c76"
  },
  {
   "cell_type": "code",
   "execution_count": null,
   "outputs": [],
   "source": [
    "demographics[[\"age\"]].hist()"
   ],
   "metadata": {
    "collapsed": false
   },
   "id": "db29b783677a0a9b"
  },
  {
   "cell_type": "code",
   "execution_count": null,
   "outputs": [],
   "source": [
    "demographics[[\"age\"]].median()"
   ],
   "metadata": {
    "collapsed": false
   },
   "id": "7126bec8bc148798"
  },
  {
   "cell_type": "code",
   "execution_count": null,
   "outputs": [],
   "source": [
    "demographics[[\"gender\", \"pt_id\"]].groupby(\"gender\").count().plot.bar()"
   ],
   "metadata": {
    "collapsed": false
   },
   "id": "4649c6c90ba8f6f6"
  },
  {
   "cell_type": "code",
   "execution_count": null,
   "outputs": [],
   "source": [
    "demographics[[\"race\", \"pt_id\"]].groupby(\"race\").count().plot.bar()"
   ],
   "metadata": {
    "collapsed": false
   },
   "id": "78a2b7ae723145cf"
  },
  {
   "cell_type": "code",
   "execution_count": null,
   "outputs": [],
   "source": [
    "demographics[demographics[\"pt_id\"].isin([\"TM009\", \"TM016\"])]"
   ],
   "metadata": {
    "collapsed": false
   },
   "id": "eb4b12900a5d1f30"
  },
  {
   "cell_type": "markdown",
   "source": [
    "# Misc. Explorations"
   ],
   "metadata": {
    "collapsed": false
   },
   "id": "48d56a7a834860a0"
  },
  {
   "cell_type": "code",
   "execution_count": null,
   "outputs": [],
   "source": [
    "data[data[\"Person\"] == 9].iloc[:,9:].sum()/29"
   ],
   "metadata": {
    "collapsed": false
   },
   "id": "736bd750d5eb8e82"
  },
  {
   "cell_type": "code",
   "execution_count": null,
   "outputs": [],
   "source": [
    "data[data[\"Person\"] == 16].iloc[:,9:].sum()/61"
   ],
   "metadata": {
    "collapsed": false
   },
   "id": "5f7207a738208848"
  }
 ],
 "metadata": {
  "kernelspec": {
   "display_name": "Python 3",
   "language": "python",
   "name": "python3"
  },
  "language_info": {
   "codemirror_mode": {
    "name": "ipython",
    "version": 2
   },
   "file_extension": ".py",
   "mimetype": "text/x-python",
   "name": "python",
   "nbconvert_exporter": "python",
   "pygments_lexer": "ipython2",
   "version": "2.7.6"
  }
 },
 "nbformat": 4,
 "nbformat_minor": 5
}
